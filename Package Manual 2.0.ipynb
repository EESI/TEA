{
 "cells": [
  {
   "cell_type": "markdown",
   "metadata": {},
   "source": [
    "# Using TEA (Taxa Evaluation and Assessment) \n",
    "\n",
    "\n",
    "## Quick Start\n",
    "\n",
    "    Create a Misc object, then use the function main(). \n",
    "    \n",
    "    Arguments:\n",
    "        - Input: the name of the ground truth profile file\n",
    "        - Output: the excel file name, a .xlsx of six sheets: True Positives, False Negatives, False Positives, True \n",
    "            Negatives, Precision, Recall of each tool\n",
    "        - (optional) input directory of all profiles, including the ground truth; <Default: Directory of Package Manual>\n",
    "        - (optional) the output directory; <Default: Directory of Package Manual>\n",
    "        - (optional) \"yes\" if you want individual .csv files of each tool's confusion matrix; <Default: \"no\">"
   ]
  },
  {
   "cell_type": "code",
   "execution_count": 1,
   "metadata": {},
   "outputs": [],
   "source": [
    "from TEA.precall import Misc"
   ]
  },
  {
   "cell_type": "code",
   "execution_count": 5,
   "metadata": {
    "scrolled": true
   },
   "outputs": [
    {
     "name": "stdout",
     "output_type": "stream",
     "text": [
      "[]\n"
     ]
    },
    {
     "ename": "FileNotFoundError",
     "evalue": "[Errno 2] No such file or directory: 'C:\\\\Users\\\\..\\\\..\\\\TEA\\\\Test Files\\\\truth.profile'",
     "output_type": "error",
     "traceback": [
      "\u001b[1;31m---------------------------------------------------------------------------\u001b[0m",
      "\u001b[1;31mFileNotFoundError\u001b[0m                         Traceback (most recent call last)",
      "\u001b[1;32m<ipython-input-5-7666b2089221>\u001b[0m in \u001b[0;36m<module>\u001b[1;34m\u001b[0m\n\u001b[0;32m      1\u001b[0m \u001b[0mQuick\u001b[0m \u001b[1;33m=\u001b[0m \u001b[0mMisc\u001b[0m\u001b[1;33m(\u001b[0m\u001b[1;33m)\u001b[0m\u001b[1;33m\u001b[0m\u001b[1;33m\u001b[0m\u001b[0m\n\u001b[0;32m      2\u001b[0m \u001b[1;33m\u001b[0m\u001b[0m\n\u001b[1;32m----> 3\u001b[1;33m \u001b[0mQuick\u001b[0m\u001b[1;33m.\u001b[0m\u001b[0mmain\u001b[0m\u001b[1;33m(\u001b[0m\u001b[1;34m\"truth.profile\"\u001b[0m\u001b[1;33m,\u001b[0m \u001b[1;34m\"TaxaPerformanceMetrics_byTool\"\u001b[0m\u001b[1;33m,\u001b[0m \u001b[1;34m\"C:\\\\Users\\\\..\\\\..\\\\TEA\\\\Test Files\"\u001b[0m\u001b[1;33m,\u001b[0m \u001b[1;34m\"\"\u001b[0m\u001b[1;33m)\u001b[0m\u001b[1;33m\u001b[0m\u001b[1;33m\u001b[0m\u001b[0m\n\u001b[0m",
      "\u001b[1;32m~\\EESI\\TEA\\precall.py\u001b[0m in \u001b[0;36mmain\u001b[1;34m(self, gnd_truth, excel_name, gen_dir, file_path, csv)\u001b[0m\n\u001b[0;32m    351\u001b[0m             \u001b[0mself\u001b[0m\u001b[1;33m.\u001b[0m\u001b[0msave_matrices_as_csv\u001b[0m\u001b[1;33m(\u001b[0m\u001b[0mfile_path\u001b[0m\u001b[1;33m)\u001b[0m\u001b[1;33m\u001b[0m\u001b[1;33m\u001b[0m\u001b[0m\n\u001b[0;32m    352\u001b[0m \u001b[1;33m\u001b[0m\u001b[0m\n\u001b[1;32m--> 353\u001b[1;33m         \u001b[0mself\u001b[0m\u001b[1;33m.\u001b[0m\u001b[0msave_as_excel\u001b[0m\u001b[1;33m(\u001b[0m\u001b[0mfile_path\u001b[0m\u001b[1;33m,\u001b[0m \u001b[0mexcel_name\u001b[0m\u001b[1;33m)\u001b[0m\u001b[1;33m\u001b[0m\u001b[1;33m\u001b[0m\u001b[0m\n\u001b[0m\u001b[0;32m    354\u001b[0m         \u001b[0mself\u001b[0m\u001b[1;33m.\u001b[0m\u001b[0mwrite_col_title\u001b[0m\u001b[1;33m(\u001b[0m\u001b[0mos\u001b[0m\u001b[1;33m.\u001b[0m\u001b[0mpath\u001b[0m\u001b[1;33m.\u001b[0m\u001b[0mjoin\u001b[0m\u001b[1;33m(\u001b[0m\u001b[0mfile_path\u001b[0m\u001b[1;33m,\u001b[0m \u001b[0mexcel_name\u001b[0m \u001b[1;33m+\u001b[0m \u001b[1;34m\".xlsx\"\u001b[0m\u001b[1;33m)\u001b[0m\u001b[1;33m)\u001b[0m\u001b[1;33m\u001b[0m\u001b[1;33m\u001b[0m\u001b[0m\n\u001b[0;32m    355\u001b[0m         \u001b[1;32mreturn\u001b[0m\u001b[1;33m\u001b[0m\u001b[1;33m\u001b[0m\u001b[0m\n",
      "\u001b[1;32m~\\EESI\\TEA\\precall.py\u001b[0m in \u001b[0;36msave_as_excel\u001b[1;34m(self, file_path, file_name)\u001b[0m\n\u001b[0;32m    315\u001b[0m         \u001b[1;32mreturn\u001b[0m\u001b[1;33m\u001b[0m\u001b[1;33m\u001b[0m\u001b[0m\n\u001b[0;32m    316\u001b[0m     \u001b[1;32mdef\u001b[0m \u001b[0msave_as_excel\u001b[0m\u001b[1;33m(\u001b[0m\u001b[0mself\u001b[0m\u001b[1;33m,\u001b[0m \u001b[0mfile_path\u001b[0m\u001b[1;33m,\u001b[0m \u001b[0mfile_name\u001b[0m\u001b[1;33m)\u001b[0m\u001b[1;33m:\u001b[0m\u001b[1;33m\u001b[0m\u001b[1;33m\u001b[0m\u001b[0m\n\u001b[1;32m--> 317\u001b[1;33m         \u001b[0mtp\u001b[0m\u001b[1;33m,\u001b[0m \u001b[0mfn\u001b[0m\u001b[1;33m,\u001b[0m \u001b[0mfp\u001b[0m\u001b[1;33m,\u001b[0m \u001b[0mtn\u001b[0m\u001b[1;33m,\u001b[0m \u001b[0mprecision\u001b[0m\u001b[1;33m,\u001b[0m \u001b[0mrecall\u001b[0m \u001b[1;33m=\u001b[0m \u001b[0mself\u001b[0m\u001b[1;33m.\u001b[0m\u001b[0morganize_matrix\u001b[0m\u001b[1;33m(\u001b[0m\u001b[1;33m)\u001b[0m\u001b[1;33m\u001b[0m\u001b[1;33m\u001b[0m\u001b[0m\n\u001b[0m\u001b[0;32m    318\u001b[0m \u001b[1;33m\u001b[0m\u001b[0m\n\u001b[0;32m    319\u001b[0m         \u001b[0mexcel_name\u001b[0m \u001b[1;33m=\u001b[0m \u001b[0mos\u001b[0m\u001b[1;33m.\u001b[0m\u001b[0mpath\u001b[0m\u001b[1;33m.\u001b[0m\u001b[0mjoin\u001b[0m\u001b[1;33m(\u001b[0m\u001b[0mfile_path\u001b[0m\u001b[1;33m,\u001b[0m \u001b[0mfile_name\u001b[0m \u001b[1;33m+\u001b[0m \u001b[1;34m\".xlsx\"\u001b[0m\u001b[1;33m)\u001b[0m\u001b[1;33m\u001b[0m\u001b[1;33m\u001b[0m\u001b[0m\n",
      "\u001b[1;32m~\\EESI\\TEA\\precall.py\u001b[0m in \u001b[0;36morganize_matrix\u001b[1;34m(self)\u001b[0m\n\u001b[0;32m    281\u001b[0m     \u001b[1;32mdef\u001b[0m \u001b[0morganize_matrix\u001b[0m\u001b[1;33m(\u001b[0m\u001b[0mself\u001b[0m\u001b[1;33m)\u001b[0m\u001b[1;33m:\u001b[0m\u001b[1;33m\u001b[0m\u001b[1;33m\u001b[0m\u001b[0m\n\u001b[0;32m    282\u001b[0m         \u001b[0mCalc\u001b[0m \u001b[1;33m=\u001b[0m \u001b[0mPrecall\u001b[0m\u001b[1;33m(\u001b[0m\u001b[1;33m)\u001b[0m\u001b[1;33m\u001b[0m\u001b[1;33m\u001b[0m\u001b[0m\n\u001b[1;32m--> 283\u001b[1;33m         \u001b[0mtp\u001b[0m\u001b[1;33m,\u001b[0m \u001b[0mfn\u001b[0m\u001b[1;33m,\u001b[0m \u001b[0mfp\u001b[0m\u001b[1;33m,\u001b[0m \u001b[0mtn\u001b[0m \u001b[1;33m=\u001b[0m \u001b[0mself\u001b[0m\u001b[1;33m.\u001b[0m\u001b[0m_organize_matrix\u001b[0m\u001b[1;33m(\u001b[0m\u001b[1;33m)\u001b[0m\u001b[1;33m\u001b[0m\u001b[1;33m\u001b[0m\u001b[0m\n\u001b[0m\u001b[0;32m    284\u001b[0m         \u001b[0mprecision\u001b[0m\u001b[1;33m,\u001b[0m \u001b[0mrecall\u001b[0m \u001b[1;33m=\u001b[0m \u001b[0mCalc\u001b[0m\u001b[1;33m.\u001b[0m\u001b[0mcalculate_precision_and_recall\u001b[0m\u001b[1;33m(\u001b[0m\u001b[0mself\u001b[0m\u001b[1;33m.\u001b[0m\u001b[0mmatrix_dict\u001b[0m\u001b[1;33m)\u001b[0m\u001b[1;33m\u001b[0m\u001b[1;33m\u001b[0m\u001b[0m\n\u001b[0;32m    285\u001b[0m \u001b[1;33m\u001b[0m\u001b[0m\n",
      "\u001b[1;32m~\\EESI\\TEA\\precall.py\u001b[0m in \u001b[0;36m_organize_matrix\u001b[1;34m(self)\u001b[0m\n\u001b[0;32m    238\u001b[0m     \u001b[1;32mdef\u001b[0m \u001b[0m_organize_matrix\u001b[0m\u001b[1;33m(\u001b[0m\u001b[0mself\u001b[0m\u001b[1;33m)\u001b[0m\u001b[1;33m:\u001b[0m\u001b[1;33m\u001b[0m\u001b[1;33m\u001b[0m\u001b[0m\n\u001b[0;32m    239\u001b[0m         \u001b[0mJuice\u001b[0m \u001b[1;33m=\u001b[0m \u001b[0mcm\u001b[0m\u001b[1;33m.\u001b[0m\u001b[0mConfusion\u001b[0m\u001b[1;33m(\u001b[0m\u001b[0mos\u001b[0m\u001b[1;33m.\u001b[0m\u001b[0mpath\u001b[0m\u001b[1;33m.\u001b[0m\u001b[0mjoin\u001b[0m\u001b[1;33m(\u001b[0m\u001b[0mself\u001b[0m\u001b[1;33m.\u001b[0m\u001b[0minput_path\u001b[0m\u001b[1;33m,\u001b[0m \u001b[0mself\u001b[0m\u001b[1;33m.\u001b[0m\u001b[0mcm_truth\u001b[0m\u001b[1;33m)\u001b[0m\u001b[1;33m,\u001b[0m \u001b[1;34m\"\"\u001b[0m\u001b[1;33m)\u001b[0m\u001b[1;33m\u001b[0m\u001b[1;33m\u001b[0m\u001b[0m\n\u001b[1;32m--> 240\u001b[1;33m         \u001b[0mtp\u001b[0m\u001b[1;33m,\u001b[0m \u001b[0mfn\u001b[0m\u001b[1;33m,\u001b[0m \u001b[0mfp\u001b[0m\u001b[1;33m,\u001b[0m \u001b[0mtn\u001b[0m \u001b[1;33m=\u001b[0m \u001b[0mself\u001b[0m\u001b[1;33m.\u001b[0m\u001b[0m_get_name_and_rank\u001b[0m\u001b[1;33m(\u001b[0m\u001b[1;33m)\u001b[0m\u001b[1;33m\u001b[0m\u001b[1;33m\u001b[0m\u001b[0m\n\u001b[0m\u001b[0;32m    241\u001b[0m \u001b[1;33m\u001b[0m\u001b[0m\n\u001b[0;32m    242\u001b[0m         \u001b[0mnames\u001b[0m \u001b[1;33m=\u001b[0m \u001b[0mself\u001b[0m\u001b[1;33m.\u001b[0m\u001b[0mget_matrix_names\u001b[0m\u001b[1;33m(\u001b[0m\u001b[1;33m)\u001b[0m\u001b[1;33m\u001b[0m\u001b[1;33m\u001b[0m\u001b[0m\n",
      "\u001b[1;32m~\\EESI\\TEA\\precall.py\u001b[0m in \u001b[0;36m_get_name_and_rank\u001b[1;34m(self)\u001b[0m\n\u001b[0;32m    161\u001b[0m     \u001b[1;32mdef\u001b[0m \u001b[0m_get_name_and_rank\u001b[0m\u001b[1;33m(\u001b[0m\u001b[0mself\u001b[0m\u001b[1;33m)\u001b[0m\u001b[1;33m:\u001b[0m\u001b[1;33m\u001b[0m\u001b[1;33m\u001b[0m\u001b[0m\n\u001b[0;32m    162\u001b[0m         \u001b[0mChai\u001b[0m \u001b[1;33m=\u001b[0m \u001b[0mcm\u001b[0m\u001b[1;33m.\u001b[0m\u001b[0mcomp\u001b[0m\u001b[1;33m.\u001b[0m\u001b[0mpp\u001b[0m\u001b[1;33m.\u001b[0m\u001b[0mParser\u001b[0m\u001b[1;33m(\u001b[0m\u001b[1;33m)\u001b[0m\u001b[1;33m\u001b[0m\u001b[1;33m\u001b[0m\u001b[0m\n\u001b[1;32m--> 163\u001b[1;33m         \u001b[0mtruth_other\u001b[0m \u001b[1;33m=\u001b[0m \u001b[0mChai\u001b[0m\u001b[1;33m.\u001b[0m\u001b[0mmain\u001b[0m\u001b[1;33m(\u001b[0m\u001b[0mos\u001b[0m\u001b[1;33m.\u001b[0m\u001b[0mpath\u001b[0m\u001b[1;33m.\u001b[0m\u001b[0mjoin\u001b[0m\u001b[1;33m(\u001b[0m\u001b[0mself\u001b[0m\u001b[1;33m.\u001b[0m\u001b[0minput_path\u001b[0m\u001b[1;33m,\u001b[0m \u001b[0mself\u001b[0m\u001b[1;33m.\u001b[0m\u001b[0mcm_truth\u001b[0m\u001b[1;33m)\u001b[0m\u001b[1;33m,\u001b[0m \u001b[1;36m1\u001b[0m\u001b[1;33m)\u001b[0m\u001b[1;33m\u001b[0m\u001b[1;33m\u001b[0m\u001b[0m\n\u001b[0m\u001b[0;32m    164\u001b[0m         \u001b[0mtp\u001b[0m \u001b[1;33m=\u001b[0m \u001b[1;33m{\u001b[0m\u001b[1;33m}\u001b[0m\u001b[1;33m\u001b[0m\u001b[1;33m\u001b[0m\u001b[0m\n\u001b[0;32m    165\u001b[0m         \u001b[0mfn\u001b[0m \u001b[1;33m=\u001b[0m \u001b[1;33m{\u001b[0m\u001b[1;33m}\u001b[0m\u001b[1;33m\u001b[0m\u001b[1;33m\u001b[0m\u001b[0m\n",
      "\u001b[1;32m~\\EESI\\TEA\\profile_parser.py\u001b[0m in \u001b[0;36mmain\u001b[1;34m(self, f, t)\u001b[0m\n\u001b[0;32m    282\u001b[0m \u001b[1;33m\u001b[0m\u001b[0m\n\u001b[0;32m    283\u001b[0m         '''\n\u001b[1;32m--> 284\u001b[1;33m         \u001b[0msamples\u001b[0m \u001b[1;33m=\u001b[0m \u001b[0mself\u001b[0m\u001b[1;33m.\u001b[0m\u001b[0mparse_data\u001b[0m\u001b[1;33m(\u001b[0m\u001b[0mself\u001b[0m\u001b[1;33m.\u001b[0m\u001b[0mdivide_content\u001b[0m\u001b[1;33m(\u001b[0m\u001b[0mself\u001b[0m\u001b[1;33m.\u001b[0m\u001b[0mget_file\u001b[0m\u001b[1;33m(\u001b[0m\u001b[0mf\u001b[0m\u001b[1;33m)\u001b[0m\u001b[1;33m)\u001b[0m\u001b[1;33m,\u001b[0m \u001b[0mt\u001b[0m\u001b[1;33m)\u001b[0m\u001b[1;33m\u001b[0m\u001b[1;33m\u001b[0m\u001b[0m\n\u001b[0m\u001b[0;32m    285\u001b[0m         \u001b[1;31m#print(\"done (pp).\")\u001b[0m\u001b[1;33m\u001b[0m\u001b[1;33m\u001b[0m\u001b[1;33m\u001b[0m\u001b[0m\n\u001b[0;32m    286\u001b[0m         \u001b[1;32mreturn\u001b[0m \u001b[0msamples\u001b[0m\u001b[1;33m\u001b[0m\u001b[1;33m\u001b[0m\u001b[0m\n",
      "\u001b[1;32m~\\EESI\\TEA\\profile_parser.py\u001b[0m in \u001b[0;36mget_file\u001b[1;34m(self, f)\u001b[0m\n\u001b[0;32m     42\u001b[0m \u001b[1;33m\u001b[0m\u001b[0m\n\u001b[0;32m     43\u001b[0m         '''\n\u001b[1;32m---> 44\u001b[1;33m         \u001b[0mfile\u001b[0m \u001b[1;33m=\u001b[0m \u001b[0mopen\u001b[0m\u001b[1;33m(\u001b[0m\u001b[0mf\u001b[0m\u001b[1;33m,\u001b[0m \u001b[1;34m\"r\"\u001b[0m\u001b[1;33m)\u001b[0m\u001b[1;33m\u001b[0m\u001b[1;33m\u001b[0m\u001b[0m\n\u001b[0m\u001b[0;32m     45\u001b[0m         \u001b[0mcontents\u001b[0m \u001b[1;33m=\u001b[0m \u001b[0mfile\u001b[0m\u001b[1;33m.\u001b[0m\u001b[0mreadlines\u001b[0m\u001b[1;33m(\u001b[0m\u001b[1;33m)\u001b[0m\u001b[1;33m\u001b[0m\u001b[1;33m\u001b[0m\u001b[0m\n\u001b[0;32m     46\u001b[0m         \u001b[0mfile\u001b[0m\u001b[1;33m.\u001b[0m\u001b[0mclose\u001b[0m\u001b[1;33m(\u001b[0m\u001b[1;33m)\u001b[0m\u001b[1;33m\u001b[0m\u001b[1;33m\u001b[0m\u001b[0m\n",
      "\u001b[1;31mFileNotFoundError\u001b[0m: [Errno 2] No such file or directory: 'C:\\\\Users\\\\..\\\\..\\\\TEA\\\\Test Files\\\\truth.profile'"
     ]
    }
   ],
   "source": [
    "Quick = Misc()\n",
    "\n",
    "Quick.main(\"truth.profile\", \"TaxaPerformanceMetrics_byTool\", \"C:\\\\Users\\\\**\\\\**\\\\TEA\\\\Test Files\", \"\")"
   ]
  },
  {
   "cell_type": "markdown",
   "metadata": {},
   "source": [
    "## Set up:\n",
    "\n",
    "    To set up a python file for MoC, first import the modules in the package.\n",
    "    Then create objects to use each module."
   ]
  },
  {
   "cell_type": "code",
   "execution_count": 2,
   "metadata": {},
   "outputs": [],
   "source": [
    "from TEA.profile_parser import Parser\n",
    "from TEA.comparator import Comparator\n",
    "from TEA.confusion_matrix import Confusion\n",
    "from TEA.precall import Misc\n",
    "\n",
    "myParser = Parser()\n",
    "myComparer = Comparator()\n",
    "myConfusion = Confusion(\"truth\", \"pred\")\n",
    "myMisc = Misc()"
   ]
  },
  {
   "cell_type": "markdown",
   "metadata": {},
   "source": [
    "## How they work\n",
    "\n",
    "    The main purpose of this module is to calculate each Tax ID's confusion matrix and save that and other information into a .csv file.\n",
    "\n",
    "    Each module does a specific step in that process\n",
    "\n",
    "### Parse\n",
    "\n",
    "    Parse separates the relevant information for each Tax ID (ie. rank, abundance, etc.) into dictionaries. Both functions parse_data() and main() return a dictionary of dictionaries variable, but main() does a little more with it.\n",
    "\n",
    "    The returned variable looks like this:\n",
    "\n",
    "    {Sample Number : dict}\n",
    "                   - {Rank : dict}\n",
    "                           - {Tax ID : Abundance}\n",
    "\n",
    "    There is an alternative parsing format that can be used to get other information about the Tax ID (name and rank), which returns a dictionary of dictionaries variable that looks like this:\n",
    "\n",
    "    {Sample Number : dict}\n",
    "                  - {Tax ID : list}\n",
    "                            - [rank, name]\n",
    "\n",
    "    The functions that contribute to main() and parse_data() can be used individually as shown below\n"
   ]
  },
  {
   "cell_type": "markdown",
   "metadata": {},
   "source": [
    "#### main(self, f, t=0)\n",
    "\n",
    "    This function calls parse_data(), divide_content(), and get_file() to create and return a dictionary where sample number is the key and a dictionary of {Rank : {Tax ID : Abundance}} is the value.\n",
    "    \n",
    "    The variable t is optional and the default is zero. Passing one for t instead of zero tells the program to use the alternative parsing format."
   ]
  },
  {
   "cell_type": "code",
   "execution_count": 2,
   "metadata": {},
   "outputs": [],
   "source": [
    "sample_1 = myParser.main(\"pred\")\n",
    "sample_2 = myParser.main(\"pred2\")\n",
    "\n",
    "sample_1_alt = myParser.main(\"pred\", 1)"
   ]
  },
  {
   "cell_type": "markdown",
   "metadata": {},
   "source": [
    "#### print_samples(self, samples, t=0)\n",
    "\n",
    "    This function prints the contents of the dictionary samples in a viewable way.\n",
    "\n",
    "    The variable t defaults to zero, printing in the format of the default sample format. If t=1, it prints in the alternative format."
   ]
  },
  {
   "cell_type": "code",
   "execution_count": 3,
   "metadata": {},
   "outputs": [
    {
     "name": "stdout",
     "output_type": "stream",
     "text": [
      "~DEFAULT~\n",
      "Sample Number: 0\n",
      "\tRank: rank1\n",
      "\t\t1 - 100.0\n",
      "\tRank: rank2\n",
      "\t\t3 - 97.0\n",
      "\t\t4 - 2.0\n",
      "\t\t7 - 1.0\n",
      "Sample Number: 1\n",
      "\tRank: rank1\n",
      "\t\t1 - 100.0\n",
      "\tRank: rank2\n",
      "\t\t3 - 15.0\n",
      "\t\t5 - 85.0\n",
      "~ALTERNATIVE~\n",
      "Sample Number: 0\n",
      "\tTax ID: 1\n",
      "\t\tRank - rank1, Name - bac\n",
      "\tTax ID: 3\n",
      "\t\tRank - rank2, Name - bac|bac1\n",
      "\tTax ID: 4\n",
      "\t\tRank - rank2, Name - bac|bac2\n",
      "\tTax ID: 7\n",
      "\t\tRank - rank2, Name - bac|bac4\n",
      "Sample Number: 1\n",
      "\tTax ID: 1\n",
      "\t\tRank - rank1, Name - bac\n",
      "\tTax ID: 3\n",
      "\t\tRank - rank2, Name - bac|bac1\n",
      "\tTax ID: 5\n",
      "\t\tRank - rank2, Name - bac|bac3\n"
     ]
    }
   ],
   "source": [
    "print(\"~DEFAULT~\")\n",
    "myParser.print_samples(sample_1)\n",
    "print(\"~ALTERNATIVE~\")\n",
    "myParser.print_samples(sample_1_alt, 1)"
   ]
  },
  {
   "cell_type": "markdown",
   "metadata": {},
   "source": [
    "### Comparator\n",
    "\n",
    "    Comparator compares two sample dictionaries to find the common Tax IDs in each sample and to combine the Tax IDs in each sample into a new dictionary."
   ]
  },
  {
   "cell_type": "markdown",
   "metadata": {},
   "source": [
    "#### main(self, files, t=0)\n",
    "\n",
    "    The main() function takes in a string (files) of two profile names (without the '.profile' part) separated by a space. It also accepts an optional argument t that is used when the function calls on Parser.main().\n",
    "    \n",
    "    This function returns two dictionaries where sample number is the key and a set is the value. The sets for the two dictionaries contain all the Tax IDs from both samples, excluding repeats, or the Tax IDs both samples had in common, respectively."
   ]
  },
  {
   "cell_type": "code",
   "execution_count": 4,
   "metadata": {},
   "outputs": [
    {
     "name": "stdout",
     "output_type": "stream",
     "text": [
      "{0: {1, 3, 4}, 1: {1, 3, 5}}\n",
      "{0: {1, 2, 3, 4, 6, 7}, 1: {1, 3, 5}}\n"
     ]
    }
   ],
   "source": [
    "common_1_2, combined_1_2 = myComparer.main(\"truth pred\")\n",
    "print(common_1_2)\n",
    "print(combined_1_2)"
   ]
  },
  {
   "cell_type": "code",
   "execution_count": null,
   "metadata": {},
   "outputs": [],
   "source": []
  },
  {
   "cell_type": "markdown",
   "metadata": {},
   "source": [
    "#### save_tax_ID(self, samples)\n",
    "\n",
    "    This function iterates over a samples dictionary and uses get_tax_ID() to create and return a dictionary where sample number is the key and a set of Tax IDs from that sample is the value."
   ]
  },
  {
   "cell_type": "code",
   "execution_count": 12,
   "metadata": {},
   "outputs": [
    {
     "name": "stdout",
     "output_type": "stream",
     "text": [
      "{0: {1, 3, 4, 7}, 1: {1, 3, 5}}\n",
      "{0: {1, 3, 4}, 1: {1, 2, 5}}\n"
     ]
    }
   ],
   "source": [
    "sample_tax_ID_1 = myComparer.save_tax_ID(sample_1)\n",
    "sample_tax_ID_2 = myComparer.save_tax_ID(sample_2)\n",
    "print(sample_tax_ID_1)\n",
    "print(sample_tax_ID_2)"
   ]
  },
  {
   "cell_type": "markdown",
   "metadata": {},
   "source": [
    "#### common_tax_ID(self, tax_id1, tax_id_2)\n",
    "\n",
    "    This function creates and returns a dictionary where sample number is the key and a set containing the common Tax IDs between two sample files is the value. It iterates over a samples dictionary and calls _common_tax_ID() to save each set under a sample number."
   ]
  },
  {
   "cell_type": "code",
   "execution_count": 13,
   "metadata": {},
   "outputs": [
    {
     "name": "stdout",
     "output_type": "stream",
     "text": [
      "{0: {1, 3, 4}, 1: {1, 5}}\n"
     ]
    }
   ],
   "source": [
    "common_dict_1_2 = myComparer.common_tax_ID(sample_tax_ID_2, sample_tax_ID_1)\n",
    "print(common_dict_1_2)"
   ]
  },
  {
   "cell_type": "markdown",
   "metadata": {},
   "source": [
    "#### combine_tax_ID(self, tax_id_1, tax_id_2)\n",
    "\n",
    "    This function creates and returns a dictionary where sample number is the key and a set containing the Tax IDs from both sample dictionaries is the value."
   ]
  },
  {
   "cell_type": "code",
   "execution_count": 14,
   "metadata": {},
   "outputs": [
    {
     "name": "stdout",
     "output_type": "stream",
     "text": [
      "{0: {1, 3, 4, 7}, 1: {1, 2, 3, 5}}\n"
     ]
    }
   ],
   "source": [
    "combined_dict_1_2 = myComparer.combine_tax_ID(sample_tax_ID_2, sample_tax_ID_1)\n",
    "print(combined_dict_1_2)"
   ]
  },
  {
   "cell_type": "markdown",
   "metadata": {},
   "source": [
    "### Confusion\n",
    "\n",
    "    Confusion uses both Comparator and Parser to create a confusion matrix for every Tax ID in each sample."
   ]
  },
  {
   "cell_type": "markdown",
   "metadata": {},
   "source": [
    "#### \\__init__(self, tru, fn)\n",
    "\n",
    "    The constructor for Confusion objects is a little different since it takes two arguments, one for the name of the truth file and one for the name of the predicted file (excluding the '.profile' part)."
   ]
  },
  {
   "cell_type": "code",
   "execution_count": 15,
   "metadata": {},
   "outputs": [],
   "source": [
    "Confu = Confusion(\"truth\", \"pred\")"
   ]
  },
  {
   "cell_type": "markdown",
   "metadata": {},
   "source": [
    "#### get_file_name(self) and get_truth(self)\n",
    "\n",
    "    These functions return a string containing the name of the predicted and truth files respectively"
   ]
  },
  {
   "cell_type": "code",
   "execution_count": 16,
   "metadata": {},
   "outputs": [
    {
     "name": "stdout",
     "output_type": "stream",
     "text": [
      "Truth: truth \n",
      "Predicted: pred\n"
     ]
    }
   ],
   "source": [
    "print(\"Truth:\", Confu.get_truth(), '\\nPredicted:', Confu.get_file_name())"
   ]
  },
  {
   "cell_type": "markdown",
   "metadata": {},
   "source": [
    "#### set_file_name(self, tru) and set_truth(self, fn)\n",
    "\n",
    "    These two functions allow you to change the ground truth or predicted file whenever you need to. It also makes it so that you only need one Confusion object for multiple predicted files or even multiple truth files."
   ]
  },
  {
   "cell_type": "code",
   "execution_count": 17,
   "metadata": {},
   "outputs": [
    {
     "name": "stdout",
     "output_type": "stream",
     "text": [
      "Truth: pred \n",
      "Predicted: pred2\n"
     ]
    }
   ],
   "source": [
    "Confu.set_file_name(\"pred2\")\n",
    "Confu.set_truth(\"pred\")\n",
    "print(\"Truth:\", Confu.get_truth(), '\\nPredicted:', Confu.get_file_name())"
   ]
  },
  {
   "cell_type": "markdown",
   "metadata": {},
   "source": [
    "#### main(self, csv=\"yes\", t=0)\n",
    "\n",
    "    This function uses Comparer and Parser and internal functions to create a confusion matrix for the predicted file, then save that data as a .csv file. The automatic name for that .csv file is the truth and predicted file names joined by two hyphens (ie. Truth='truth', Predicted='pred', .csv name='truth--pred.csv').\n",
    "    \n",
    "    It also returns the confusion matrix it created"
   ]
  },
  {
   "cell_type": "code",
   "execution_count": 18,
   "metadata": {},
   "outputs": [],
   "source": [
    "t_p_matrix = Confu.main()"
   ]
  },
  {
   "cell_type": "markdown",
   "metadata": {},
   "source": [
    "#### check_matrix_error(self, matrix)\n",
    "\n",
    "    This a supplementary function that checks to make sure the sum of the numbers in the confusion matrix equal the total number of samples in the ground truth file for each Tax ID. It then returns a list of the Tax IDs with confusion matrices that are over and under that number respectively."
   ]
  },
  {
   "cell_type": "code",
   "execution_count": 19,
   "metadata": {},
   "outputs": [
    {
     "data": {
      "text/plain": [
       "([], [])"
      ]
     },
     "execution_count": 19,
     "metadata": {},
     "output_type": "execute_result"
    }
   ],
   "source": [
    "Confu.check_matrix_error(t_p_matrix)"
   ]
  },
  {
   "cell_type": "markdown",
   "metadata": {},
   "source": [
    "### Misc\n",
    "\n",
    "    Misc is mainly for finding the confusion matrices of multiple profiles at once and creating an .xlsx file to display the confusion matrix values for each predicted file and the ground truth on separate sheets. It also uses the Precall class to calculate and add a sheet for precision and recall."
   ]
  },
  {
   "cell_type": "markdown",
   "metadata": {},
   "source": [
    "#### main(self, names, file_path=\"\", excel_name=\"Default_excel_name\", csv=\"no\")\n",
    "\n",
    "    This function takes the name of the ground truth file, the name of the output .xlsx file, the directory of the profile files, the directory for the output file, and a string to  determine whether or not to also create .csv files for each tool's confusion matrix. \n",
    "        The name of the ground truth file is a string. \n",
    "        The name of the ourput .xlsx file can be anything you choose.\n",
    "        The directory of the profile files needs to include all the profiles being evaluated plus the ground truth file. They should all be in the CAMI format and have the extension '.profile'. The default is the package manual directory.\n",
    "        The directory for the .xlsx output file can be anything you choose. The default is the package manual directory.\n",
    "        The .csv files contain the confusion matrix for each Tax ID. One file would be made for each tool. If you want the progam to output them, pass in \"yes\", otherwise leave blank since the default is \"no\". The directory for these files will be the same as the .xlsx output file's."
   ]
  },
  {
   "cell_type": "code",
   "execution_count": 14,
   "metadata": {},
   "outputs": [
    {
     "name": "stdout",
     "output_type": "stream",
     "text": [
      "\n",
      "Added as matrix truth\n",
      "\n",
      "Added as matrix pred\n",
      "\n",
      "Added as matrix pred2\n",
      "\n",
      "Added as matrix pred3\n",
      "\n",
      "Saved as 'C:\\Users\\milkg\\Documents\\Trail_Run_2.xlsx'\n"
     ]
    }
   ],
   "source": [
    "myMisc.main(\"truth.profile\", \"TaxaPerformanceMetrics_byTool2\", \"C:\\\\*\\\\*\\\\*\\\\MoC\\\\tests\\\\\", \"\")"
   ]
  },
  {
   "cell_type": "code",
   "execution_count": null,
   "metadata": {},
   "outputs": [],
   "source": []
  },
  {
   "cell_type": "code",
   "execution_count": null,
   "metadata": {},
   "outputs": [],
   "source": []
  }
 ],
 "metadata": {
  "kernelspec": {
   "display_name": "Python 3",
   "language": "python",
   "name": "python3"
  },
  "language_info": {
   "codemirror_mode": {
    "name": "ipython",
    "version": 3
   },
   "file_extension": ".py",
   "mimetype": "text/x-python",
   "name": "python",
   "nbconvert_exporter": "python",
   "pygments_lexer": "ipython3",
   "version": "3.7.7"
  }
 },
 "nbformat": 4,
 "nbformat_minor": 4
}
