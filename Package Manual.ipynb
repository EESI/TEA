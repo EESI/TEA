{
 "cells": [
  {
   "cell_type": "markdown",
   "metadata": {},
   "source": [
    "# Using TEA (Taxa Evaluation and Assessment) \n",
    "\n",
    "\n",
    "## Quick Start\n",
    "\n",
    "    Create a Misc object, then use the function main(). \n",
    "    \n",
    "    Arguments:\n",
    "        - Input: the name of the ground truth profile file\n",
    "        - Output: the excel file name, a .xlsx of six sheets: True Positives, False Negatives, False Positives, True \n",
    "            Negatives, Precision, Recall of each tool\n",
    "        - (optional) input directory of all profiles, including the ground truth; <Default: Directory of Package Manual>\n",
    "        - (optional) the output directory; <Default: Directory of Package Manual>\n",
    "        - (optional) \"yes\" if you want individual .csv files of each tool's confusion matrix; <Default: \"no\">"
   ]
  },
  {
   "cell_type": "code",
   "execution_count": null,
   "metadata": {},
   "outputs": [],
   "source": [
    "from TEA.precall import Misc"
   ]
  },
  {
   "cell_type": "code",
   "execution_count": null,
   "metadata": {
    "scrolled": true
   },
   "outputs": [],
   "source": [
    "Quick = Misc()\n",
    "\n",
    "Quick.main(\"truth.profile\", \"Test_Tool\", \"C:\\\\Users\\\\milkg\\\\EESI\\\\TEA\\\\Test Files\", \"C:\\\\Users\\\\milkg\\\\EESI\\\\Outputs\\\\test_data_res\")"
   ]
  },
  {
   "cell_type": "markdown",
   "metadata": {},
   "source": [
    "## Set up:\n",
    "\n",
    "    To set up a python file for MoC, first import the modules in the package.\n",
    "    Then create objects to use each module."
   ]
  },
  {
   "cell_type": "code",
   "execution_count": null,
   "metadata": {},
   "outputs": [],
   "source": [
    "from TEA.profile_parser import Parser\n",
    "from TEA.comparator import Comparator\n",
    "from TEA.confusion_matrix import Confusion\n",
    "from TEA.precall import Misc\n",
    "\n",
    "myParser = Parser()\n",
    "myComparer = Comparator()\n",
    "myConfusion = Confusion(\"truth\", \"pred\")\n",
    "myMisc = Misc()"
   ]
  },
  {
   "cell_type": "markdown",
   "metadata": {},
   "source": [
    "## How they work\n",
    "\n",
    "    The main purpose of this module is to calculate each Tax ID's confusion matrix and save that and other information into a .csv file.\n",
    "\n",
    "    Each module does a specific step in that process\n",
    "\n",
    "### Parse\n",
    "\n",
    "    Parse separates the relevant information for each Tax ID (ie. rank, abundance, etc.) into dictionaries. Both functions parse_data() and main() return a dictionary of dictionaries variable, but main() does a little more with it.\n",
    "\n",
    "    The returned variable looks like this:\n",
    "\n",
    "    {Sample Number : dict}\n",
    "                   - {Rank : dict}\n",
    "                           - {Tax ID : Abundance}\n",
    "\n",
    "    There is an alternative parsing format that can be used to get other information about the Tax ID (name and rank), which returns a dictionary of dictionaries variable that looks like this:\n",
    "\n",
    "    {Sample Number : dict}\n",
    "                  - {Tax ID : list}\n",
    "                            - [rank, name]\n",
    "\n",
    "    The functions that contribute to main() and parse_data() can be used individually as shown below\n"
   ]
  },
  {
   "cell_type": "markdown",
   "metadata": {},
   "source": [
    "#### main(self, f, t=0)\n",
    "\n",
    "    This function calls parse_data(), divide_content(), and get_file() to create and return a dictionary where sample number is the key and a dictionary of {Rank : {Tax ID : Abundance}} is the value.\n",
    "    \n",
    "    The variable t is optional and the default is zero. Passing one for t instead of zero tells the program to use the alternative parsing format."
   ]
  },
  {
   "cell_type": "code",
   "execution_count": null,
   "metadata": {},
   "outputs": [],
   "source": [
    "sample_1 = myParser.main(\"pred\")\n",
    "sample_2 = myParser.main(\"pred2\")\n",
    "\n",
    "sample_1_alt = myParser.main(\"pred\", 1)"
   ]
  },
  {
   "cell_type": "markdown",
   "metadata": {},
   "source": [
    "#### print_samples(self, samples, t=0)\n",
    "\n",
    "    This function prints the contents of the dictionary samples in a viewable way.\n",
    "\n",
    "    The variable t defaults to zero, printing in the format of the default sample format. If t=1, it prints in the alternative format."
   ]
  },
  {
   "cell_type": "code",
   "execution_count": null,
   "metadata": {},
   "outputs": [],
   "source": [
    "print(\"~DEFAULT~\")\n",
    "myParser.print_samples(sample_1)\n",
    "print(\"~ALTERNATIVE~\")\n",
    "myParser.print_samples(sample_1_alt, 1)"
   ]
  },
  {
   "cell_type": "markdown",
   "metadata": {},
   "source": [
    "### Comparator\n",
    "\n",
    "    Comparator compares two sample dictionaries to find the common Tax IDs in each sample and to combine the Tax IDs in each sample into a new dictionary."
   ]
  },
  {
   "cell_type": "markdown",
   "metadata": {},
   "source": [
    "#### main(self, files, t=0)\n",
    "\n",
    "    The main() function takes in a string (files) of two profile names (without the '.profile' part) separated by a space. It also accepts an optional argument t that is used when the function calls on Parser.main().\n",
    "    \n",
    "    This function returns two dictionaries where sample number is the key and a set is the value. The sets for the two dictionaries contain all the Tax IDs from both samples, excluding repeats, or the Tax IDs both samples had in common, respectively."
   ]
  },
  {
   "cell_type": "code",
   "execution_count": null,
   "metadata": {},
   "outputs": [],
   "source": [
    "common_1_2, combined_1_2 = myComparer.main(\"truth pred\")\n",
    "print(common_1_2)\n",
    "print(combined_1_2)"
   ]
  },
  {
   "cell_type": "code",
   "execution_count": null,
   "metadata": {},
   "outputs": [],
   "source": []
  },
  {
   "cell_type": "markdown",
   "metadata": {},
   "source": [
    "#### save_tax_ID(self, samples)\n",
    "\n",
    "    This function iterates over a samples dictionary and uses get_tax_ID() to create and return a dictionary where sample number is the key and a set of Tax IDs from that sample is the value."
   ]
  },
  {
   "cell_type": "code",
   "execution_count": null,
   "metadata": {},
   "outputs": [],
   "source": [
    "sample_tax_ID_1 = myComparer.save_tax_ID(sample_1)\n",
    "sample_tax_ID_2 = myComparer.save_tax_ID(sample_2)\n",
    "print(sample_tax_ID_1)\n",
    "print(sample_tax_ID_2)"
   ]
  },
  {
   "cell_type": "markdown",
   "metadata": {},
   "source": [
    "#### common_tax_ID(self, tax_id1, tax_id_2)\n",
    "\n",
    "    This function creates and returns a dictionary where sample number is the key and a set containing the common Tax IDs between two sample files is the value. It iterates over a samples dictionary and calls _common_tax_ID() to save each set under a sample number."
   ]
  },
  {
   "cell_type": "code",
   "execution_count": null,
   "metadata": {},
   "outputs": [],
   "source": [
    "common_dict_1_2 = myComparer.common_tax_ID(sample_tax_ID_2, sample_tax_ID_1)\n",
    "print(common_dict_1_2)"
   ]
  },
  {
   "cell_type": "markdown",
   "metadata": {},
   "source": [
    "#### combine_tax_ID(self, tax_id_1, tax_id_2)\n",
    "\n",
    "    This function creates and returns a dictionary where sample number is the key and a set containing the Tax IDs from both sample dictionaries is the value."
   ]
  },
  {
   "cell_type": "code",
   "execution_count": null,
   "metadata": {},
   "outputs": [],
   "source": [
    "combined_dict_1_2 = myComparer.combine_tax_ID(sample_tax_ID_2, sample_tax_ID_1)\n",
    "print(combined_dict_1_2)"
   ]
  },
  {
   "cell_type": "markdown",
   "metadata": {},
   "source": [
    "### Confusion\n",
    "\n",
    "    Confusion uses both Comparator and Parser to create a confusion matrix for every Tax ID in each sample."
   ]
  },
  {
   "cell_type": "markdown",
   "metadata": {},
   "source": [
    "#### \\__init__(self, tru, fn)\n",
    "\n",
    "    The constructor for Confusion objects is a little different since it takes two arguments, one for the name of the truth file and one for the name of the predicted file (excluding the '.profile' part)."
   ]
  },
  {
   "cell_type": "code",
   "execution_count": null,
   "metadata": {},
   "outputs": [],
   "source": [
    "Confu = Confusion(\"truth\", \"pred\")"
   ]
  },
  {
   "cell_type": "markdown",
   "metadata": {},
   "source": [
    "#### get_file_name(self) and get_truth(self)\n",
    "\n",
    "    These functions return a string containing the name of the predicted and truth files respectively"
   ]
  },
  {
   "cell_type": "code",
   "execution_count": null,
   "metadata": {},
   "outputs": [],
   "source": [
    "print(\"Truth:\", Confu.get_truth(), '\\nPredicted:', Confu.get_file_name())"
   ]
  },
  {
   "cell_type": "markdown",
   "metadata": {},
   "source": [
    "#### set_file_name(self, tru) and set_truth(self, fn)\n",
    "\n",
    "    These two functions allow you to change the ground truth or predicted file whenever you need to. It also makes it so that you only need one Confusion object for multiple predicted files or even multiple truth files."
   ]
  },
  {
   "cell_type": "code",
   "execution_count": null,
   "metadata": {},
   "outputs": [],
   "source": [
    "Confu.set_file_name(\"pred2\")\n",
    "Confu.set_truth(\"pred\")\n",
    "print(\"Truth:\", Confu.get_truth(), '\\nPredicted:', Confu.get_file_name())"
   ]
  },
  {
   "cell_type": "markdown",
   "metadata": {},
   "source": [
    "#### main(self, csv=\"yes\", t=0)\n",
    "\n",
    "    This function uses Comparer and Parser and internal functions to create a confusion matrix for the predicted file, then save that data as a .csv file. The automatic name for that .csv file is the truth and predicted file names joined by two hyphens (ie. Truth='truth', Predicted='pred', .csv name='truth--pred.csv').\n",
    "    \n",
    "    It also returns the confusion matrix it created"
   ]
  },
  {
   "cell_type": "code",
   "execution_count": null,
   "metadata": {},
   "outputs": [],
   "source": [
    "t_p_matrix = Confu.main()"
   ]
  },
  {
   "cell_type": "markdown",
   "metadata": {},
   "source": [
    "#### check_matrix_error(self, matrix)\n",
    "\n",
    "    This a supplementary function that checks to make sure the sum of the numbers in the confusion matrix equal the total number of samples in the ground truth file for each Tax ID. It then returns a list of the Tax IDs with confusion matrices that are over and under that number respectively."
   ]
  },
  {
   "cell_type": "code",
   "execution_count": null,
   "metadata": {},
   "outputs": [],
   "source": [
    "Confu.check_matrix_error(t_p_matrix)"
   ]
  },
  {
   "cell_type": "markdown",
   "metadata": {},
   "source": [
    "### Misc\n",
    "\n",
    "    Misc is mainly for finding the confusion matrices of multiple profiles at once and creating an .xlsx file to display the confusion matrix values for each predicted file and the ground truth on separate sheets. It also uses the Precall class to calculate and add a sheet for precision and recall."
   ]
  },
  {
   "cell_type": "markdown",
   "metadata": {},
   "source": [
    "#### set_truth(self, truth)\n",
    "\n",
    "    This function sets the file name of the ground truth"
   ]
  },
  {
   "cell_type": "code",
   "execution_count": null,
   "metadata": {},
   "outputs": [],
   "source": [
    "myMisc.set_truth(\"jazzy.profile\")\n",
    "print(myMisc.get_truth())"
   ]
  },
  {
   "cell_type": "markdown",
   "metadata": {},
   "source": [
    "#### set_input_path(self, ip)\n",
    "\n",
    "    This function sets the directory path for the input files (ground truth and predicted profile files)."
   ]
  },
  {
   "cell_type": "code",
   "execution_count": null,
   "metadata": {},
   "outputs": [],
   "source": [
    "myMisc.set_input_path('C:\\\\Users\\\\user')\n",
    "print(myMisc.get_input_path())"
   ]
  },
  {
   "cell_type": "markdown",
   "metadata": {},
   "source": [
    "#### set_output_path(self, op)\n",
    "\n",
    "    This function sets the directory path for the output files (the .xlsx file and dendrograms)"
   ]
  },
  {
   "cell_type": "code",
   "execution_count": null,
   "metadata": {},
   "outputs": [],
   "source": [
    "myMisc.set_output_path('C:\\\\Users\\\\Public')\n",
    "print(myMisc.get_output_path())"
   ]
  },
  {
   "cell_type": "markdown",
   "metadata": {},
   "source": [
    "#### set_output_name(self, on)\n",
    "\n",
    "    This function sets the name of the .xlsx output file."
   ]
  },
  {
   "cell_type": "code",
   "execution_count": null,
   "metadata": {},
   "outputs": [],
   "source": [
    "myMisc.set_output_name('A_Different_Name')\n",
    "print(myMisc.get_output_name())"
   ]
  },
  {
   "cell_type": "markdown",
   "metadata": {},
   "source": [
    "#### main(self, gnd_truth_name, file_path=\"\", excel_name=\"Default_excel_name\", csv=\"no\")\n",
    "\n",
    "    This function takes the name of the ground truth file, the name of the output .xlsx file, the directory of the profile files, the directory for the output file, and a string to  determine whether or not to also create .csv files for each tool's confusion matrix.\n",
    "    \n",
    "        The name of the ground truth file is a string.\n",
    "        \n",
    "        The name of the output .xlsx file can be anything you choose.\n",
    "        \n",
    "        The directory of the profile files needs to include all the profiles being evaluated plus the ground truth file. They should all be in the CAMI format and have the extension '.profile'. The default is the package manual directory.\n",
    "        \n",
    "        The directory for the .xlsx output file can be anything you choose. The default is the package manual directory.\n",
    "        \n",
    "        The .csv files contain the confusion matrix for each Tax ID. One file would be made for each tool. If you want the progam to output them, pass in \"yes\", otherwise leave blank since the default is \"no\". The directory for these files will be the same as the .xlsx output file's.\n",
    "        \n",
    "        After saving the output excel file, dendrograms based on the bray curtis distance are created and saved as .png files. These are created for each taxa level for True Positives, False Negatives, False Positives, and True Negatives to compare the tools to each other. There is also a dendrogram for each confusion matrix metric that includes all taxa levels and uses traceback to include the Tax IDs that weren't directly reported but were detected. The .png files are also saved in the same directory as the output excel file."
   ]
  },
  {
   "cell_type": "code",
   "execution_count": null,
   "metadata": {},
   "outputs": [],
   "source": [
    "myMisc.main(\"truth.profile\", \"TaxaPerformanceMetrics_byTool2\", \"C:\\\\*\\\\*\\\\*\\\\TEA\\\\tests\", \"no\")"
   ]
  },
  {
   "cell_type": "markdown",
   "metadata": {},
   "source": [
    "#### get_top_taxid(self, x, metric=\"precall\", difficulty=\"easy\", truth=\"no\")\n",
    "\n",
    "    This function finds and creates a .xlsx file of the x number of taxa with the top difficulty passed based on the metric chosen.\n",
    "    \n",
    "    'x' is the number of Tax IDs to include\n",
    "    \n",
    "    'metric' is the way the top taxa will be calculated. It can be True Positives ('tp'), False Negatives ('fn'), False Positves ('fp'), True Negatives ('tn'), or the average of Precision and Recall ('precall'). 'Precall' is the default and the argument is not case sensitive.\n",
    "    \n",
    "    'Difficulty' is what kind of Tax ID you're looking for. 'Easy,' 'Hard,' and 'Nan' can be passed to get the top easiest, hardest, or not-a-number Tax IDs. (Note: only the 'precall' option really has 'nan' values). The default is 'easy'.\n",
    "    \n",
    "    The 'truth' argument tells the program whether or not you want to include Tax IDs only from the ground truth. If 'yes' is passed, only Tax IDs from the ground truth will be included in the top taxa. If no, the default, is passed, all taxa between all predicted files and the ground truth will be included.\n",
    "    \n",
    "    The main function should be run, or the ground truth file name, output file directory and output file name should be set before running this."
   ]
  },
  {
   "cell_type": "code",
   "execution_count": null,
   "metadata": {},
   "outputs": [],
   "source": [
    "myMisc.get_top_taxid(2, 'precall', 'hard', 'yes')"
   ]
  }
 ],
 "metadata": {
  "kernelspec": {
   "display_name": "Python 3",
   "language": "python",
   "name": "python3"
  },
  "language_info": {
   "codemirror_mode": {
    "name": "ipython",
    "version": 3
   },
   "file_extension": ".py",
   "mimetype": "text/x-python",
   "name": "python",
   "nbconvert_exporter": "python",
   "pygments_lexer": "ipython3",
   "version": "3.7.7"
  }
 },
 "nbformat": 4,
 "nbformat_minor": 4
}
